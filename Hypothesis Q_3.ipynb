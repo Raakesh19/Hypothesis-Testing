{
 "cells": [
  {
   "cell_type": "markdown",
   "id": "acc29cf5",
   "metadata": {},
   "source": [
    "# Question 3:"
   ]
  },
  {
   "cell_type": "code",
   "execution_count": null,
   "id": "8ccb5c1f",
   "metadata": {},
   "outputs": [],
   "source": [
    "#Sales of products in four different regions is tabulated for males and females. Find if male-female buyer rations are similar \n",
    "#across regions."
   ]
  },
  {
   "cell_type": "markdown",
   "id": "a2e7f816",
   "metadata": {},
   "source": [
    "![](Screenshot.png)"
   ]
  },
  {
   "cell_type": "markdown",
   "id": "af6b917f",
   "metadata": {},
   "source": [
    "### We will conduct a Test of Independence using Chi-Square test with Contingency table\n",
    "### We will check whether the proportion of any of the samples are different or the same."
   ]
  },
  {
   "cell_type": "markdown",
   "id": "33228388",
   "metadata": {},
   "source": [
    "## Step 1 :Formulate Hypothesis"
   ]
  },
  {
   "cell_type": "code",
   "execution_count": null,
   "id": "26eb2bc2",
   "metadata": {},
   "outputs": [],
   "source": [
    "#Null Hypothesis: (H0): There is No dependency across regions.\n",
    "#Alternative Hypthosis:(HA): There is significant Dependency across regions."
   ]
  },
  {
   "cell_type": "markdown",
   "id": "abd14964",
   "metadata": {},
   "source": [
    "## Step 2 :Decide a cut-off value"
   ]
  },
  {
   "cell_type": "code",
   "execution_count": null,
   "id": "df92880a",
   "metadata": {},
   "outputs": [],
   "source": [
    "#Significance 5%\n",
    "#alpha α = 0.05"
   ]
  },
  {
   "cell_type": "markdown",
   "id": "dbb454fe",
   "metadata": {},
   "source": [
    "## Step 3 :Collect Evidences"
   ]
  },
  {
   "cell_type": "code",
   "execution_count": 33,
   "id": "c775dbc2",
   "metadata": {},
   "outputs": [
    {
     "data": {
      "text/html": [
       "<div>\n",
       "<style scoped>\n",
       "    .dataframe tbody tr th:only-of-type {\n",
       "        vertical-align: middle;\n",
       "    }\n",
       "\n",
       "    .dataframe tbody tr th {\n",
       "        vertical-align: top;\n",
       "    }\n",
       "\n",
       "    .dataframe thead th {\n",
       "        text-align: right;\n",
       "    }\n",
       "</style>\n",
       "<table border=\"1\" class=\"dataframe\">\n",
       "  <thead>\n",
       "    <tr style=\"text-align: right;\">\n",
       "      <th></th>\n",
       "      <th>Observed Values</th>\n",
       "      <th>East</th>\n",
       "      <th>West</th>\n",
       "      <th>North</th>\n",
       "      <th>South</th>\n",
       "    </tr>\n",
       "  </thead>\n",
       "  <tbody>\n",
       "    <tr>\n",
       "      <th>0</th>\n",
       "      <td>Males</td>\n",
       "      <td>50</td>\n",
       "      <td>142</td>\n",
       "      <td>131</td>\n",
       "      <td>70</td>\n",
       "    </tr>\n",
       "    <tr>\n",
       "      <th>1</th>\n",
       "      <td>Females</td>\n",
       "      <td>435</td>\n",
       "      <td>1523</td>\n",
       "      <td>1356</td>\n",
       "      <td>750</td>\n",
       "    </tr>\n",
       "  </tbody>\n",
       "</table>\n",
       "</div>"
      ],
      "text/plain": [
       "  Observed Values  East  West  North  South\n",
       "0           Males    50   142    131     70\n",
       "1         Females   435  1523   1356    750"
      ]
     },
     "execution_count": 33,
     "metadata": {},
     "output_type": "execute_result"
    }
   ],
   "source": [
    "buyer_data=pd.read_csv('BuyerRatio.csv')\n",
    "buyer_data.head()"
   ]
  },
  {
   "cell_type": "markdown",
   "id": "404e418a",
   "metadata": {},
   "source": [
    "### Contingency Table:"
   ]
  },
  {
   "cell_type": "code",
   "execution_count": 55,
   "id": "5bb7b300",
   "metadata": {},
   "outputs": [
    {
     "data": {
      "text/plain": [
       "[[50, 142, 131, 70], [435, 1523, 1356, 750]]"
      ]
     },
     "execution_count": 55,
     "metadata": {},
     "output_type": "execute_result"
    }
   ],
   "source": [
    "buyer= [[50,142,131,70],\n",
    "        [435,1523,1356,750]]\n",
    "buyer"
   ]
  },
  {
   "cell_type": "markdown",
   "id": "1d365b84",
   "metadata": {},
   "source": [
    "### Expected Values for observed Data:"
   ]
  },
  {
   "cell_type": "code",
   "execution_count": 57,
   "id": "7b6eb41b",
   "metadata": {},
   "outputs": [
    {
     "name": "stdout",
     "output_type": "stream",
     "text": [
      "1.595945538661058 \n",
      " 0.6603094907091882 \n",
      " 3 \n",
      " [[  42.76531299  146.81287862  131.11756787   72.30424052]\n",
      " [ 442.23468701 1518.18712138 1355.88243213  747.69575948]]\n"
     ]
    }
   ],
   "source": [
    "stat, p, dof, exp = stats.chi2_contingency(buyer)\n",
    "print(stat,'\\n', p,'\\n', dof,'\\n', exp)"
   ]
  },
  {
   "cell_type": "markdown",
   "id": "512a7e98",
   "metadata": {},
   "source": [
    "### Defining Expected values and observed values:"
   ]
  },
  {
   "cell_type": "code",
   "execution_count": 36,
   "id": "b0b0f60f",
   "metadata": {},
   "outputs": [],
   "source": [
    "observed_value = np.array([50,142,131,70,435,1523,1356,750])\n",
    "expected_value = np.array([42.76531299,146.81287862,131.11756787,72.30424052,442.23468701,1518.18712138,1355.88243213,747.69575948])"
   ]
  },
  {
   "cell_type": "markdown",
   "id": "059e33e6",
   "metadata": {},
   "source": [
    "## Step 4: Compare the evidences with the significance level."
   ]
  },
  {
   "cell_type": "code",
   "execution_count": 37,
   "id": "e7d1142f",
   "metadata": {},
   "outputs": [
    {
     "name": "stdout",
     "output_type": "stream",
     "text": [
      "Statistics =  1.5959455390914483 \n",
      " P_Value =  0.8095206646905712\n"
     ]
    }
   ],
   "source": [
    "statistics, p_value = stats.chisquare(observed_value, expected_value, ddof = 3)\n",
    "print(\"Statistics = \",statistics,\"\\n\",'P_Value = ', p_value)"
   ]
  },
  {
   "cell_type": "code",
   "execution_count": 38,
   "id": "c4045b75",
   "metadata": {},
   "outputs": [
    {
     "data": {
      "text/plain": [
       "0.8095206646905712"
      ]
     },
     "execution_count": 38,
     "metadata": {},
     "output_type": "execute_result"
    }
   ],
   "source": [
    "p_value"
   ]
  },
  {
   "cell_type": "markdown",
   "id": "2229cea1",
   "metadata": {},
   "source": [
    "**If p_value is <= α we reject Null Hypothesis.**\n",
    "\n",
    "**If p_value is > α we failed to reject Null Hypothesis (Accepet Null Hypothesis)because of lack of evidence.**"
   ]
  },
  {
   "cell_type": "code",
   "execution_count": null,
   "id": "63a68ff2",
   "metadata": {},
   "outputs": [],
   "source": [
    "#Significance=0.05, p_value = 0.8095\n",
    "#We fail to reject Null hypothesis (Accept null hypothesis) Hence, we can say that there is no dependency between male \n",
    "#and female buyers rations and also for regions."
   ]
  },
  {
   "cell_type": "markdown",
   "id": "9b47a80a",
   "metadata": {},
   "source": [
    "## ========================================================================="
   ]
  },
  {
   "cell_type": "code",
   "execution_count": null,
   "id": "92b13a01",
   "metadata": {},
   "outputs": [],
   "source": []
  },
  {
   "cell_type": "code",
   "execution_count": null,
   "id": "2e898c00",
   "metadata": {},
   "outputs": [],
   "source": []
  },
  {
   "cell_type": "code",
   "execution_count": null,
   "id": "0d2b3083",
   "metadata": {},
   "outputs": [],
   "source": []
  },
  {
   "cell_type": "code",
   "execution_count": null,
   "id": "884392c9",
   "metadata": {},
   "outputs": [],
   "source": []
  },
  {
   "cell_type": "code",
   "execution_count": null,
   "id": "3575c2b3",
   "metadata": {},
   "outputs": [],
   "source": []
  }
 ],
 "metadata": {
  "kernelspec": {
   "display_name": "Python 3 (ipykernel)",
   "language": "python",
   "name": "python3"
  },
  "language_info": {
   "codemirror_mode": {
    "name": "ipython",
    "version": 3
   },
   "file_extension": ".py",
   "mimetype": "text/x-python",
   "name": "python",
   "nbconvert_exporter": "python",
   "pygments_lexer": "ipython3",
   "version": "3.9.12"
  }
 },
 "nbformat": 4,
 "nbformat_minor": 5
}
